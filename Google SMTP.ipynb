{
 "cells": [
  {
   "cell_type": "code",
   "execution_count": 1,
   "id": "fded0d51",
   "metadata": {},
   "outputs": [
    {
     "name": "stdout",
     "output_type": "stream",
     "text": [
      "Mail sent to email ID\n",
      "process complete\n"
     ]
    }
   ],
   "source": [
    "import smtplib\n",
    "from email.mime.multipart import MIMEMultipart\n",
    "from email.mime.text import MIMEText\n",
    "from email.mime.base import MIMEBase\n",
    "from email import encoders\n",
    "\n",
    "email_content= \"\"\"<p>Dear Sir/Madam,</p>\n",
    "We at Hackveda Limited are glad to know about your event from knowyourfest.com website.</p>\n",
    "<p>To support your event,we would like to sponser your event as a Technology Partner</p>\n",
    "<p><b>I am eager to know more about it.<b></p>\n",
    "<p>Regards\n",
    "<p/>\"\"\"\n",
    "sender_address = \"praneethreddy7733@gmail.com\"\n",
    "sender_password=\"wfxbggsvrpbqcdpa\"\n",
    "receiver_address = \"praneethreddyrajula@gmail.com\"\n",
    "\n",
    "message = MIMEMultipart()\n",
    "message[\"FROM\"] = \"Director Hackveda <praneethreddyrajula@gmail.com>\"\n",
    "message[\"TO\"]= receiver_address\n",
    "message[\"Subject\"] = \"Information required about event name\"\n",
    "message.attach(MIMEText(email_content,\"html\"))\n",
    "\n",
    "session = smtplib.SMTP(\"smtp.gmail.com\",587)\n",
    "session.starttls()\n",
    "session.login(sender_address,sender_password) #Enable less seure app on gmail\n",
    "text = message.as_string()\n",
    "session.sendmail(sender_address,receiver_address,text)\n",
    "session.quit()\n",
    "print(\"Mail sent to email ID\")\n",
    "print(\"process complete\")"
   ]
  },
  {
   "cell_type": "code",
   "execution_count": null,
   "id": "f91cb6af-0940-4f15-8595-1d748585d076",
   "metadata": {},
   "outputs": [],
   "source": []
  }
 ],
 "metadata": {
  "kernelspec": {
   "display_name": "Python 3 (ipykernel)",
   "language": "python",
   "name": "python3"
  },
  "language_info": {
   "codemirror_mode": {
    "name": "ipython",
    "version": 3
   },
   "file_extension": ".py",
   "mimetype": "text/x-python",
   "name": "python",
   "nbconvert_exporter": "python",
   "pygments_lexer": "ipython3",
   "version": "3.9.6"
  }
 },
 "nbformat": 4,
 "nbformat_minor": 5
}
