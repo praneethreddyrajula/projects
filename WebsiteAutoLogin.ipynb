{
 "cells": [
  {
   "cell_type": "code",
   "execution_count": 1,
   "id": "45245d2c",
   "metadata": {
    "scrolled": true
   },
   "outputs": [],
   "source": [
    "from selenium import webdriver\n",
    "\n",
    "import time"
   ]
  },
  {
   "cell_type": "code",
   "execution_count": 2,
   "id": "6d8679ed",
   "metadata": {
    "jupyter": {
     "source_hidden": true
    },
    "tags": []
   },
   "outputs": [
    {
     "name": "stderr",
     "output_type": "stream",
     "text": [
      "C:\\Users\\PRANEETH\\AppData\\Local\\Temp/ipykernel_17800/3230565175.py:2: DeprecationWarning: executable_path has been deprecated, please pass in a Service object\n",
      "  browser = webdriver.Chrome(\"D:\\Downloads\\chromedriver_win32 (1)\\chromedriver.exe\")\n"
     ]
    }
   ],
   "source": [
    "# Create a connection with your browser\n",
    "browser = webdriver.Chrome(\"D:\\Downloads\\chromedriver_win32 (1)\\chromedriver.exe\")\n",
    "\n",
    "# Maximise the browser window \n",
    "browser.maximize_window()     \n",
    "\n",
    "# Open the website\n",
    "browser.get(\"https://www.hackveda.in/one2one\")\n",
    "time.sleep(3)"
   ]
  },
  {
   "cell_type": "code",
   "execution_count": 3,
   "id": "6bd334f5",
   "metadata": {},
   "outputs": [
    {
     "data": {
      "text/plain": [
       "<selenium.webdriver.remote.webelement.WebElement (session=\"c1a4935fbaded80a3cf8384371d10ba4\", element=\"b2abb311-ca39-46fb-99d7-9f4d88bd7344\")>"
      ]
     },
     "execution_count": 3,
     "metadata": {},
     "output_type": "execute_result"
    }
   ],
   "source": [
    "username = browser.find_element(\"id\", \"email\")\n",
    "password = browser.find_element(\"id\",\"password\")\n",
    "username\n",
    "password"
   ]
  },
  {
   "cell_type": "code",
   "execution_count": 4,
   "id": "2a96684e",
   "metadata": {},
   "outputs": [],
   "source": [
    "username.send_keys(\"praneethreddy7733@gmail.com\")\n",
    "time.sleep(1)"
   ]
  },
  {
   "cell_type": "code",
   "execution_count": 5,
   "id": "d251a738",
   "metadata": {},
   "outputs": [],
   "source": [
    "password.send_keys(\"9910950118\")\n",
    "time.sleep(1)"
   ]
  },
  {
   "cell_type": "code",
   "execution_count": 6,
   "id": "cbf0edb1",
   "metadata": {},
   "outputs": [],
   "source": [
    "signIn=browser.find_element(\"id\",\"login_btn\")\n",
    "signIn.click()"
   ]
  },
  {
   "cell_type": "code",
   "execution_count": null,
   "id": "44f33f7a-166b-4913-b4eb-70464cee830b",
   "metadata": {},
   "outputs": [],
   "source": []
  }
 ],
 "metadata": {
  "kernelspec": {
   "display_name": "Python 3 (ipykernel)",
   "language": "python",
   "name": "python3"
  },
  "language_info": {
   "codemirror_mode": {
    "name": "ipython",
    "version": 3
   },
   "file_extension": ".py",
   "mimetype": "text/x-python",
   "name": "python",
   "nbconvert_exporter": "python",
   "pygments_lexer": "ipython3",
   "version": "3.9.6"
  }
 },
 "nbformat": 4,
 "nbformat_minor": 5
}
